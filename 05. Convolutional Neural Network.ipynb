{
 "cells": [
  {
   "cell_type": "markdown",
   "metadata": {},
   "source": [
    "# Convolutional Neural Network (CNN)\n"
   ]
  },
  {
   "cell_type": "markdown",
   "metadata": {},
   "source": [
    "- Same as Ordinary NN because these are also made of Neurons\n",
    "- These Neurons can learn biases and weights\n",
    "- Data is fed into Ordinary NN after converting to 1-D array\n",
    "- If data is Image than it will be an issue\n",
    "- CNN takes the 2-D structure of the Images while processing them\n",
    "\n",
    "<img src=\"Image/cnn1.png\" width=\"400\" />\n",
    "\n",
    "$CONVOLUTION \\longrightarrow MAX POOLING \\longrightarrow FLATTENING \\longrightarrow FULL CONNECTION$"
   ]
  },
  {
   "cell_type": "markdown",
   "metadata": {},
   "source": [
    "### Step 1:CONVOLUTION\n",
    "- Identify features and put it in feature map while preverving special relation between pixels\n",
    "<img src=\"Image/convolution.png\">\n"
   ]
  },
  {
   "cell_type": "markdown",
   "metadata": {},
   "source": [
    "### Step 1(a):\n",
    "We create many Feature Maps by taking different Feature Detector to obtain our first convolution layer.\n"
   ]
  },
  {
   "cell_type": "markdown",
   "metadata": {},
   "source": [
    "### Step 2: MAX POOLING\n",
    "- If same image be rotated or strectched or shrinked, Neural Network should be able to recognize it.\n",
    "- preserving the feature\n",
    "- reducing size\n",
    "- reducing parameter so preventing over-fitting\n",
    "\n",
    "<img src=\"Image/max.png\">\n",
    "\n"
   ]
  },
  {
   "cell_type": "markdown",
   "metadata": {},
   "source": [
    "### Step 3: FLATTENING\n",
    "<img src=\"Image/flattening.png\">"
   ]
  },
  {
   "cell_type": "markdown",
   "metadata": {},
   "source": [
    "### Step 4: Fully Connected Layer\n",
    "- in Artificial NN its hidden layer\n",
    "- in ANN we have one output - regression problem\n",
    "- in CNN we have multiple output - classification problem\n",
    "\n",
    "<img src=\"Image/full_layer.png\">"
   ]
  },
  {
   "cell_type": "markdown",
   "metadata": {},
   "source": [
    "* You always have to feed a 4D array of shape (batch_size, height, width, depth) to the CNN.\n",
    "* Output data from CNN is also a 4D array of shape (batch_size, height, width, depth).\n",
    "* To add a Dense layer on top of the CNN layer, we have to change the 4D output of CNN to 2D using a Flatten layer."
   ]
  },
  {
   "cell_type": "markdown",
   "metadata": {},
   "source": [
    "## Image Augmentation(creating images by number of random transformations)\n",
    "* model would never see twice the exact same picture\n",
    "* helps prevent overfitting and helps the model generalize better\n",
    "* one way of fighting overfitting\n",
    "* it isn't enough since our augmented samples are still highly correlated\n",
    "* main focus entropic capacity of your model - A model that can store a lot of information has the potential to be more accurate by leveraging more features. But it may also store irrelevant information\n",
    "* a model that can only store a few features will have to focus on the most significant features found in the data, and these are more likely to be truly relevant and to generalize better\n",
    "\n",
    "### modulate entropic capacity\n",
    "1. Choice of our number of parameters in the model (no. of layers and size of each layer)\n",
    "2. Weight Regularization (L1 and L2)\n",
    "\n"
   ]
  },
  {
   "cell_type": "code",
   "execution_count": null,
   "metadata": {},
   "outputs": [],
   "source": []
  }
 ],
 "metadata": {
  "kernelspec": {
   "display_name": "Python 3",
   "language": "python",
   "name": "python3"
  },
  "language_info": {
   "codemirror_mode": {
    "name": "ipython",
    "version": 3
   },
   "file_extension": ".py",
   "mimetype": "text/x-python",
   "name": "python",
   "nbconvert_exporter": "python",
   "pygments_lexer": "ipython3",
   "version": "3.8.5"
  }
 },
 "nbformat": 4,
 "nbformat_minor": 2
}
