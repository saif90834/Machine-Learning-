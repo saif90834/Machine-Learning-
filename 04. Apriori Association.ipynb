{
 "cells": [
  {
   "cell_type": "markdown",
   "metadata": {},
   "source": [
    "## Apriori Algorithm:  \n",
    "- Used to identify frequent item sets. \n",
    "- Uses bottom-up approach, identify individual items first that fulfill a min occurence threshold. After this is add one item at a time and check if the resulting item set still meet the specified threshold.\n",
    "- Algorithm stops when there are no more item left to add to meet the min. occurence threshold"
   ]
  },
  {
   "cell_type": "markdown",
   "metadata": {},
   "source": [
    "### Apriori Algorithm in Action\n",
    "\n",
    "Suppose threshold is 3:  \n",
    "**Order List**:  \n",
    "order 1: bread, milk, butter  \n",
    "order 2: bread, banana  \n",
    "order 3: bread, butter  \n",
    "order 4: bread, butter, banana  \n",
    "order 5: banana, milk  \n",
    "\n",
    "**Iteration 1**:  Count the # of times items appear across all the orders     \n",
    "Item           Count    \n",
    "(bread)  ->      4   \n",
    "(butter) ->      3   \n",
    "(milk)   ->      2   \n",
    "(banana) ->      2   \n",
    "\n",
    "milk and banana appears two times each which is below threshold so these will be removed  \n",
    "\n",
    "\n",
    "**Iteration 2**: Form iteration 1, build item set of two items at a time  \n",
    "Itemset              Count    \n",
    "(bread, butter) ->     3   \n",
    "\n",
    "Only (bread, butter) remains and algorithm stops here since there are no more items left to add.  "
   ]
  },
  {
   "cell_type": "markdown",
   "metadata": {},
   "source": [
    "## Association Rules \n",
    "Once we generated itemsets using Apriori, we can apply association rules. As our item size is having 2 items so our association rule will be of the form (A) -> (B)  \n",
    "$Support \\longrightarrow Confidence \\longrightarrow Lift$  "
   ]
  },
  {
   "cell_type": "markdown",
   "metadata": {},
   "source": [
    "### Support\n",
    "\n",
    "It refers to percentage of orders that contains the item set. In our case, total no. of orders are 5 and (bread, butter) appear together in 3 orders:  \n",
    "\n",
    "$$Support(bread,butter) = \\frac{No. of times (bread, butter) appear together}{Total no. of orders} $$\n",
    "\n",
    "\n",
    "$ Support = \\frac {3}{5} = 60 \\% $"
   ]
  },
  {
   "cell_type": "markdown",
   "metadata": {},
   "source": [
    "### Confidence\n",
    "confidence measures the percentage of times item B is purchased, provided that item A was purchased  \n",
    "\n",
    "$$Confidence(A \\longrightarrow B) = \\frac{Support(A,B)}{Support(A)} $$  \n",
    "Confidence:  \n",
    "0 -> means B never purchased when A was purchased  \n",
    "1 -> means B was always purchased when A was purchased  \n",
    "\n",
    "\n",
    "\n",
    "$ Confidence (Bread \\longrightarrow Butter) = \\frac {Support(Bread \\longrightarrow Butter)}{Support(Bread)} = \\frac {3/5} {4/5} = 0.75 $  \n",
    "$ Confidence (Butter \\longrightarrow Bread) = \\frac {Support(Butter \\longrightarrow Bread)}{Support(Butter)} = \\frac {3/5} {3/5} = 1 $  \n",
    "Above it shows whenever Butter was purchased, Bread was purchased everytime. So, is this by chance or some relationship ?\n"
   ]
  },
  {
   "cell_type": "markdown",
   "metadata": {},
   "source": [
    "### Lift\n",
    "- Lift tells whether there is any relation between 2 items or they are appearing simply by chance.  \n",
    "- Unlike Confidence, Lift has no direction\n",
    "$$Lift(A,B) = Lift(B,A) = \\frac{Support(A,B)}{Support(A)*Support(B)} $$\n",
    "  \n",
    "$ Lift(Bread,Butter) = Lift(Butter, Bread)= \\frac{Support(Bread,Butter)}{Support(Bread)*Support(Butter)} = \\frac {3/5} {4/5*3/5} = 1.25 $\n",
    "\n"
   ]
  },
  {
   "cell_type": "markdown",
   "metadata": {},
   "source": [
    "* lift < 1 means that there is a negative relationship between A & B\n",
    "* lift = 1 means no relationship between A & B\n",
    "* lift > 1 means that there is a positive relationship between A & B"
   ]
  },
  {
   "cell_type": "markdown",
   "metadata": {},
   "source": [
    "### Algorithm\n",
    "\n",
    "$ Step 1:$ Set Min. Support and Confidence  \n",
    "$ Step 2:$ Take all the subsets in the transactions having higher Support than the min. support    \n",
    "$ Step 3:$ Take all the rules of these subsets having higher confidence than min. confidence    \n",
    "$ Step 4:$ Sort the rules by decreasing Lift  \n"
   ]
  },
  {
   "cell_type": "code",
   "execution_count": 33,
   "metadata": {},
   "outputs": [
    {
     "name": "stdout",
     "output_type": "stream",
     "text": [
      "RelationRecord(items=frozenset({'ground beef', 'herb & pepper'}), support=0.015997866951073192, ordered_statistics=[OrderedStatistic(items_base=frozenset({'herb & pepper'}), items_add=frozenset({'ground beef'}), confidence=0.3234501347708895, lift=3.2919938411349285)])\n"
     ]
    }
   ],
   "source": [
    "# Import the Libraries\n",
    "import numpy as np\n",
    "import pandas as pd\n",
    "from apyori import apriori\n",
    "\n",
    "\n",
    "dataset = pd.read_csv('Data/Unsupervised/Market_Basket_Optimisation.csv', header = None)\n",
    "X = []\n",
    "for i in range(0, 7501):\n",
    "    X.append([str(dataset.values[i,j]) for j in range(0, 20)])\n",
    "\n",
    "# Training Apriori on the dataset\n",
    "asso_rules = apriori(X, min_support = 0.006, min_confidence = 0.33, min_lift = 2.5, min_length = 2)\n",
    "\n",
    "# Storing the results\n",
    "asso_rules = list(asso_rules)\n",
    "\n",
    "print(asso_rules[0])"
   ]
  },
  {
   "cell_type": "code",
   "execution_count": 35,
   "metadata": {},
   "outputs": [
    {
     "name": "stdout",
     "output_type": "stream",
     "text": [
      "Rule: (ground beef->herb & pepper)\n",
      "Support: 0.015997866951073192\n",
      "Confidence: 0.3234501347708895\n",
      "Lift: 3.2919938411349285\n",
      "Rule: (whole wheat pasta->milk)\n",
      "Support: 0.009865351286495135\n",
      "Confidence: 0.33484162895927605\n",
      "Lift: 2.5839990317114503\n",
      "Rule: (tomato sauce->spaghetti)\n",
      "Support: 0.006265831222503666\n",
      "Confidence: 0.4433962264150943\n",
      "Lift: 2.546642491837383\n",
      "Rule: (chocolate->milk)\n",
      "Support: 0.007998933475536596\n",
      "Confidence: 0.34883720930232565\n",
      "Lift: 2.6920040195234\n",
      "Rule: (eggs->milk)\n",
      "Support: 0.007332355685908546\n",
      "Confidence: 0.3374233128834356\n",
      "Lift: 2.6039220884142495\n",
      "Rule: (eggs->ground beef)\n",
      "Support: 0.008932142381015865\n",
      "Confidence: 0.4466666666666667\n",
      "Lift: 2.565426237876468\n",
      "Rule: (ground beef->frozen vegetables)\n",
      "Support: 0.008665511265164644\n",
      "Confidence: 0.5118110236220472\n",
      "Lift: 2.939582303360625\n",
      "Rule: (shrimp->mineral water)\n",
      "Support: 0.007199040127982935\n",
      "Confidence: 0.30508474576271183\n",
      "Lift: 3.200616332819722\n",
      "Rule: (tomatoes->frozen vegetables)\n",
      "Support: 0.006665777896280496\n",
      "Confidence: 0.3184713375796179\n",
      "Lift: 3.341053850607991\n",
      "Rule: (ground beef->mineral water)\n",
      "Support: 0.006665777896280496\n",
      "Confidence: 0.39062500000000006\n",
      "Lift: 3.975682666214383\n",
      "Rule: (ground beef->nan)\n",
      "Support: 0.015997866951073192\n",
      "Confidence: 0.3234501347708895\n",
      "Lift: 3.2919938411349285\n",
      "Rule: (spaghetti->ground beef)\n",
      "Support: 0.006399146780429276\n",
      "Confidence: 0.3934426229508197\n",
      "Lift: 4.004359721511667\n",
      "Rule: (ground beef->milk)\n",
      "Support: 0.009732035728569524\n",
      "Confidence: 0.44242424242424244\n",
      "Lift: 2.5410599099726205\n",
      "Rule: (pancakes->ground beef)\n",
      "Support: 0.006399146780429276\n",
      "Confidence: 0.44036697247706424\n",
      "Lift: 2.5292439973586975\n",
      "Rule: (shrimp->milk)\n",
      "Support: 0.007865617917610986\n",
      "Confidence: 0.3333333333333333\n",
      "Lift: 2.5723593964334706\n",
      "Rule: (soup->milk)\n",
      "Support: 0.008532195707239034\n",
      "Confidence: 0.3699421965317919\n",
      "Lift: 2.8548728561573777\n",
      "Rule: (whole wheat pasta->milk)\n",
      "Support: 0.009865351286495135\n",
      "Confidence: 0.33484162895927605\n",
      "Lift: 2.5839990317114503\n",
      "Rule: (tomato sauce->nan)\n",
      "Support: 0.006265831222503666\n",
      "Confidence: 0.4433962264150943\n",
      "Lift: 2.546642491837383\n",
      "Rule: (chocolate->milk)\n",
      "Support: 0.007998933475536596\n",
      "Confidence: 0.34883720930232565\n",
      "Lift: 2.6920040195234\n",
      "Rule: (eggs->milk)\n",
      "Support: 0.007332355685908546\n",
      "Confidence: 0.3374233128834356\n",
      "Lift: 2.6039220884142495\n",
      "Rule: (spaghetti->eggs)\n",
      "Support: 0.008932142381015865\n",
      "Confidence: 0.4466666666666667\n",
      "Lift: 2.565426237876468\n",
      "Rule: (spaghetti->ground beef)\n",
      "Support: 0.008665511265164644\n",
      "Confidence: 0.5118110236220472\n",
      "Lift: 2.939582303360625\n",
      "Rule: (shrimp->mineral water)\n",
      "Support: 0.007199040127982935\n",
      "Confidence: 0.30508474576271183\n",
      "Lift: 3.200616332819722\n",
      "Rule: (spaghetti->tomatoes)\n",
      "Support: 0.006665777896280496\n",
      "Confidence: 0.3184713375796179\n",
      "Lift: 3.341053850607991\n",
      "Rule: (nan->ground beef)\n",
      "Support: 0.006665777896280496\n",
      "Confidence: 0.39062500000000006\n",
      "Lift: 3.975682666214383\n",
      "Rule: (spaghetti->ground beef)\n",
      "Support: 0.006399146780429276\n",
      "Confidence: 0.3934426229508197\n",
      "Lift: 4.004359721511667\n",
      "Rule: (ground beef->milk)\n",
      "Support: 0.009732035728569524\n",
      "Confidence: 0.44242424242424244\n",
      "Lift: 2.5410599099726205\n",
      "Rule: (pancakes->ground beef)\n",
      "Support: 0.006399146780429276\n",
      "Confidence: 0.44036697247706424\n",
      "Lift: 2.5292439973586975\n",
      "Rule: (shrimp->milk)\n",
      "Support: 0.007865617917610986\n",
      "Confidence: 0.3333333333333333\n",
      "Lift: 2.5723593964334706\n",
      "Rule: (soup->milk)\n",
      "Support: 0.008532195707239034\n",
      "Confidence: 0.3699421965317919\n",
      "Lift: 2.8548728561573777\n"
     ]
    }
   ],
   "source": [
    "for item in asso_rules:\n",
    "\n",
    "    item_pair = []\n",
    "    for x in item[0]:\n",
    "        item_pair.append(x)\n",
    "    print(\"Rule: ({0},{1})\".format(item_pair[0],item_pair[1]))\n",
    "    print(\"Support: {0}\".format(item[1]))\n",
    "    print(\"Confidence: {0}\".format(item[2][0][2]))\n",
    "    print(\"Lift: {0}\".format(item[2][0][3]))\n",
    "    \n",
    "\n"
   ]
  },
  {
   "cell_type": "code",
   "execution_count": null,
   "metadata": {},
   "outputs": [],
   "source": []
  }
 ],
 "metadata": {
  "kernelspec": {
   "display_name": "Python 3",
   "language": "python",
   "name": "python3"
  },
  "language_info": {
   "codemirror_mode": {
    "name": "ipython",
    "version": 3
   },
   "file_extension": ".py",
   "mimetype": "text/x-python",
   "name": "python",
   "nbconvert_exporter": "python",
   "pygments_lexer": "ipython3",
   "version": "3.6.6"
  }
 },
 "nbformat": 4,
 "nbformat_minor": 2
}
