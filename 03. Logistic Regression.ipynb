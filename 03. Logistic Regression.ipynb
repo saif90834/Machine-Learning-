{
 "cells": [
  {
   "cell_type": "markdown",
   "metadata": {},
   "source": [
    "# Classification\n",
    "A classification problem is when the output variable is a category, such as “red” or “blue” or “disease” and “no disease”. A classification model attempts to draw some conclusion from observed values. Given one or more inputs a classification model will try to predict the value of one or more outcomes.\n"
   ]
  },
  {
   "cell_type": "markdown",
   "metadata": {},
   "source": [
    "# Logistic Regression\n",
    "\n",
    "Logistic regression is a regression model. The model builds a regression model to predict the probability that a given data entry belongs to the category numbered as “1”. Just like Linear regression assumes that the data follows a linear function, Logistic regression models the data using the sigmoid function.\n",
    "\n",
    "Linear Regression: $y = b_o + b_1x$  \n",
    "Sigmoid Function:  $p = \\frac{1}{1 + e^{-y}} $  \n",
    "Using value of y from 1st equation into 2nd  \n",
    "$ln(\\frac{p}{1 - p}) = b_o + b_1x$\n",
    "\n",
    "Logistic regression becomes a classification technique only when a decision threshold is brought into the picture. The setting of the threshold value is a very important aspect of Logistic regression and is dependent on the classification problem itself.\n",
    "\n",
    "\n"
   ]
  },
  {
   "cell_type": "markdown",
   "metadata": {},
   "source": [
    "### Issue with Linear Regression"
   ]
  },
  {
   "cell_type": "markdown",
   "metadata": {},
   "source": [
    "Suppose we need to decide whether on tumor size vs its malignancy. Since it is a classification problem, on plotting,  all the values will lie on 0 and 1. And if we fit best found regression line, by setting the threshold at 0.5, it will give a descent result.\n",
    "<img src=\"Image/lr11.png\" width=\"400\" />\n",
    "\n",
    "But if we have an outlier, it will go horribly wrong.  \n",
    "<img src=\"Image/lr12.png\" width=\"400\" />\n",
    "\n",
    "Because of one outlier, whole linear regression prediction is going wrong.\n"
   ]
  },
  {
   "cell_type": "markdown",
   "metadata": {},
   "source": [
    "Logistic regression can be understood by standard logistic function. Logistic function is a Sigmoid function, which takes real value between zero and one.  \n",
    "If we plot sigmoid function, the graph will be S curve. \n",
    "When there is an outlier, sigmoid function takes care of it.  \n",
    "<img src=\"Image/lr13.png\" width=\"400\" />\n"
   ]
  },
  {
   "cell_type": "code",
   "execution_count": 2,
   "metadata": {},
   "outputs": [
    {
     "name": "stdout",
     "output_type": "stream",
     "text": [
      "[[65  3]\n",
      " [ 8 24]]\n"
     ]
    },
    {
     "data": {
      "image/png": "[encoded data removed]",
      "text/plain": [
       "<Figure size 432x288 with 1 Axes>"
      ]
     },
     "metadata": {
      "needs_background": "light"
     },
     "output_type": "display_data"
    }
   ],
   "source": [
    "# Importing the libraries\n",
    "\n",
    "import numpy as np\n",
    "import matplotlib.pyplot as plt\n",
    "import pandas as pd\n",
    "\n",
    "# Importing the dataset\n",
    "dataset = pd.read_csv('Data/Classification/Social_Network_Ads.csv')\n",
    "\n",
    "#For 3 Independent Variables\n",
    "#map_1 = {'Male' : 1, 'Female' : 0}\n",
    "#dataset['Gender'] = dataset['Gender'].map(map_1)\n",
    "#X = dataset.iloc[:, 1:4].values\n",
    "#y = dataset.iloc[:, 4].values\n",
    "\n",
    "X = dataset.iloc[:, [2, 3]].values\n",
    "y = dataset.iloc[:, 4].values\n",
    "\n",
    "X = X.astype(float)\n",
    "y = y.astype(float)\n",
    "\n",
    "# Splitting the dataset\n",
    "from sklearn.model_selection import train_test_split\n",
    "X_train, X_test, y_train, y_test = train_test_split(X, y, test_size = 0.25, random_state = 0)\n",
    "\n",
    "# Feature Scaling(Standardization)\n",
    "from sklearn.preprocessing import StandardScaler\n",
    "sc_X = StandardScaler()\n",
    "X_train = sc_X.fit_transform(X_train)\n",
    "X_test = sc_X.transform(X_test)\n",
    "\n",
    "# Fitting Logistic Regression to the Training set\n",
    "#lbfgs = Limited-memory BFGS  It is a popular algorithm for parameter estimation in machine learning.\n",
    "from sklearn.linear_model import LogisticRegression\n",
    "classifier = LogisticRegression(random_state = 0, solver='lbfgs') \n",
    "classifier.fit(X_train, y_train)\n",
    "\n",
    "# Predicting the results on Test set\n",
    "y_pred = classifier.predict(X_test)\n",
    "\n",
    "# Creating the Confusion Matrix\n",
    "from sklearn.metrics import confusion_matrix\n",
    "cm = confusion_matrix(y_test, y_pred)\n",
    "print(cm)\n",
    "# https://scikit-learn.org/stable/auto_examples/neighbors/plot_nca_classification.html#sphx-glr-auto-examples-neighbors-plot-nca-classification-py\n",
    "# Visualising the Training set results\n",
    "from matplotlib.colors import ListedColormap\n",
    "#Define Variables\n",
    "clf = classifier\n",
    "h = 0.1\n",
    "X_plot, z_plot = X_train, y_train \n",
    "\n",
    "#Standard Template to draw graph\n",
    "x_min, x_max = X_plot[:, 0].min() - 1, X_plot[:, 0].max() + 1\n",
    "y_min, y_max = X_plot[:, 1].min() - 1, X_plot[:, 1].max() + 1\n",
    "xx, yy = np.meshgrid(np.arange(x_min, x_max, h),\n",
    "                     np.arange(y_min, y_max, h))\n",
    "\n",
    "\n",
    "# Plot the decision boundary. For that, we will assign a color to each\n",
    "# point in the mesh\n",
    "Z = clf.predict(np.array([xx.ravel(), yy.ravel()]).T)\n",
    "Z = Z.reshape(xx.shape)\n",
    "plt.contourf(xx, yy, Z,\n",
    "             alpha = 0.7, cmap = ListedColormap(('blue', 'red')))\n",
    "\n",
    "\n",
    "for i, j in enumerate(np.unique(z_plot)):\n",
    "    plt.scatter(X_plot[z_plot == j, 0], X_plot[z_plot == j, 1],\n",
    "                c = ['blue', 'red'][i], cmap = ListedColormap(('blue', 'red')), label = j)\n",
    "   #X[:, 0], X[:, 1] \n",
    "plt.xlim(xx.min(), xx.max())\n",
    "plt.ylim(yy.min(), yy.max())\n",
    "plt.title('Logistic Regression')\n",
    "plt.xlabel('Independent Variable 1')\n",
    "plt.ylabel('Independent Variable 2')\n",
    "plt.legend()\n",
    "\n",
    "plt.show()"
   ]
  },
  {
   "cell_type": "markdown",
   "metadata": {},
   "source": [
    "# Confusion Matrix\n",
    "- Describe the performance of a classification model\n",
    "- Condition - True values of the test data should be known\n",
    "\n"
   ]
  },
  {
   "cell_type": "code",
   "execution_count": 3,
   "metadata": {},
   "outputs": [
    {
     "name": "stdout",
     "output_type": "stream",
     "text": [
      "[[65  3]\n",
      " [ 8 24]]\n",
      "\n",
      "Classification Report\n",
      "              precision    recall  f1-score   support\n",
      "\n",
      "         0.0       0.89      0.96      0.92        68\n",
      "         1.0       0.89      0.75      0.81        32\n",
      "\n",
      "   micro avg       0.89      0.89      0.89       100\n",
      "   macro avg       0.89      0.85      0.87       100\n",
      "weighted avg       0.89      0.89      0.89       100\n",
      "\n"
     ]
    }
   ],
   "source": [
    "from sklearn import metrics\n",
    "print(metrics.confusion_matrix(y_test, y_pred) )\n",
    "print(\"\")\n",
    "print(\"Classification Report\")\n",
    "print(metrics.classification_report(y_test, y_pred))"
   ]
  },
  {
   "cell_type": "markdown",
   "metadata": {},
   "source": [
    "<img src=\"Image/cm1.JPG\" width=\"300\" />\n",
    "\n",
    "- Accuracy: Is fraction of correct predictions in all prediction made by model  \n",
    "- Precision: Is fraction of correct positive predictions in all positive predictions made by the model  \n",
    "- Recall: Is fraction of correct positive predictions made in actual positive data  \n",
    "\n",
    "If your data are balanced, i.e. have nearly same number of instance in each class then you can use accuracy, else you can use precision or accuracy based on either classifying instance in positive class or negative class is more important "
   ]
  },
  {
   "cell_type": "markdown",
   "metadata": {},
   "source": [
    "Precision = $\\frac {TP}{Predicted Yes}$ = 65/73 = 0.89\n",
    "  \n",
    "Sensitivity/Recall = $\\frac {TP}{Actual Yes}$ = 65/68 = 0.96\n",
    "  \n",
    "Accuracy = $\\frac {TN+TP}{Total}$ = 89/100 = 0.89\n",
    "  \n",
    "Error Rate = $\\frac {FN+FP}{Total}$ = 11/100 = 0.11\n",
    "\n"
   ]
  },
  {
   "cell_type": "markdown",
   "metadata": {},
   "source": [
    "## Relevance of Confusion Matrix\n",
    "- Spam Filter (positive class: spam): Optimize for precision or specificity because false negatives (spam goes to inbox) are more acceptable than false positives (non-spam caught by spam filter).\n",
    "\n",
    "- Fraudulent transaction detector ( positive class: fraud): Optimize for sensitivity because false positives (normal transactions that are flagged as possible fraud) are more acceptable than false negatives (fraudulent transactions that are not detected)\n"
   ]
  },
  {
   "cell_type": "markdown",
   "metadata": {},
   "source": [
    "## Cross Validation\n",
    "\n",
    "- allows us to use the dataset better\n",
    "- We usually evaluate training data by test data\n",
    "- Here idea is to evaluate training data without test data\n",
    "- You just can’t fit the model to your training data and hope it would accurately work for the real data it has never seen before.\n",
    "\n",
    "<img src=\"Image/cv1.png\" width=\"300\" />\n",
    "\n",
    "- Use Test data only for final test\n",
    "Issue:\n",
    "- How do we choose the validation set?\n",
    "- Enough data?\n",
    "- Mitigate overfitting?\n",
    "<img src=\"Image/cv2.png\" width=\"300\" />\n",
    "\n",
    "## K- Fold Cross Validation Steps:\n",
    "- For each fold, determine best parameter (coefficient) value\n",
    "\n",
    "<img src=\"Image/cv3.png\" width=\"300\" />"
   ]
  },
  {
   "cell_type": "code",
   "execution_count": 1,
   "metadata": {},
   "outputs": [],
   "source": [
    "#Import Libraries\n",
    "import pandas as pd                 # pandas is a dataframe library\n",
    "import matplotlib.pyplot as plt      # matplotlib.pyplot plots data\n",
    "%matplotlib inline\n",
    "\n",
    "#Read the data\n",
    "df = pd.read_csv(\"Data/Classification/pima-data.csv\")\n",
    "\n",
    "#Check the Correlation\n",
    "df.corr()\n",
    "#Delete the correlated feature\n",
    "del df['skin']\n",
    "\n",
    "#Data Molding\n",
    "diabetes_map = {True : 1, False : 0}\n",
    "df['diabetes'] = df['diabetes'].map(diabetes_map)\n",
    "\n",
    "#Splitting the data\n",
    "from sklearn.model_selection import train_test_split\n",
    "\n",
    "#This will copy all columns from 0 to 7(8 - second place counts from 1)\n",
    "X = df.iloc[:, 0:8]\n",
    "y = df.iloc[:, 8]\n",
    "\n",
    "split_test_size = 0.30\n",
    "X_train, X_test, y_train, y_test = train_test_split(X, y, test_size=split_test_size, random_state=42) \n",
    "\n",
    "#Imputing\n",
    "from sklearn.impute import SimpleImputer \n",
    "\n",
    "#Impute with mean all 0 readings\n",
    "fill_0 = SimpleImputer(missing_values=0, strategy=\"mean\")\n",
    "\n",
    "X_train = fill_0.fit_transform(X_train)\n",
    "X_test = fill_0.fit_transform(X_test)"
   ]
  },
  {
   "cell_type": "code",
   "execution_count": 4,
   "metadata": {},
   "outputs": [
    {
     "data": {
      "text/plain": [
       "0.7877094972067039"
      ]
     },
     "execution_count": 4,
     "metadata": {},
     "output_type": "execute_result"
    }
   ],
   "source": [
    "from sklearn.linear_model import LogisticRegression\n",
    "from sklearn import metrics\n",
    "# import warnings filter\n",
    "from warnings import simplefilter\n",
    "# ignore all future warnings\n",
    "simplefilter(action='ignore', category=FutureWarning)\n",
    "\n",
    "lr_model =LogisticRegression(C=0.7, random_state=42, max_iter=150)\n",
    "lr_model.fit(X_train, y_train.ravel())\n",
    "lr_predict_test = lr_model.predict(X_test)\n",
    "lr_model.score(X_train,y_train)"
   ]
  },
  {
   "cell_type": "code",
   "execution_count": 6,
   "metadata": {},
   "outputs": [
    {
     "data": {
      "text/plain": [
       "array([[ 6.69791720e-02,  3.92879297e-02, -9.44965378e-03,\n",
       "         3.91336082e-03,  1.91002787e-05,  1.05759743e-01,\n",
       "         2.64316581e-01,  3.41628978e-02]])"
      ]
     },
     "execution_count": 6,
     "metadata": {},
     "output_type": "execute_result"
    }
   ],
   "source": [
    "#A negative coefficient means that higher value of the corresponding feature pushes the classification more towards the negative class\n",
    "lr_model.coef_"
   ]
  },
  {
   "cell_type": "code",
   "execution_count": 7,
   "metadata": {},
   "outputs": [
    {
     "data": {
      "text/plain": [
       "array([[ 0.1934069 ,  1.18297558, -0.11522356,  0.03312661,  0.00162276,\n",
       "         0.73588783,  0.09033513,  0.39883249]])"
      ]
     },
     "execution_count": 7,
     "metadata": {},
     "output_type": "execute_result"
    }
   ],
   "source": [
    "#Find most influential feature\n",
    "import numpy as np\n",
    "np.std(X_train, 0)*lr_model.coef_"
   ]
  },
  {
   "cell_type": "markdown",
   "metadata": {},
   "source": [
    "lr_model.score(X_train, y_train) is the training accuracy, while  \n",
    "accuracy_score(y_test, classifier.predict(X_test)) is the testing accuracy.   \n",
    "\n",
    ".score() method in the LogisticRegression class directly calls the sklearn.metrics.accuracy_score\n"
   ]
  },
  {
   "cell_type": "markdown",
   "metadata": {},
   "source": [
    "#### Apply K-Fold Validation"
   ]
  },
  {
   "cell_type": "code",
   "execution_count": 42,
   "metadata": {},
   "outputs": [
    {
     "name": "stdout",
     "output_type": "stream",
     "text": [
      "0.7448789571694601\n"
     ]
    }
   ],
   "source": [
    "from sklearn.model_selection import KFold\n",
    "from sklearn.model_selection import cross_val_score\n",
    "\n",
    "# K Fold =3\n",
    "kfold = KFold(n_splits=3, random_state=7)\n",
    "\n",
    "#.ravel will convert that array shape to (n, )\n",
    "result = cross_val_score(lr_model, X_train, y_train.ravel(), cv=kfold, scoring='accuracy')\n",
    "print(result.mean())"
   ]
  },
  {
   "cell_type": "markdown",
   "metadata": {},
   "source": [
    "There is slight decrease in score. This can be improved with hyperparameter tuning/optimization(Grid Search)."
   ]
  },
  {
   "cell_type": "markdown",
   "metadata": {},
   "source": [
    "# Hyper-Parameter\n",
    "\n",
    "1. One which is set manually before learning process begins.\n",
    "2. Hyper-parameters are data dependent & many times need experiments to find the best\n",
    "3. GridSearch is used to find the best hyper-parameters  \n",
    "4. hyperparameter is a parameter whose value is used to control the learning process  \n",
    "  \n",
    "Examples:\n",
    "- The learning rate for training a neural network.\n",
    "- The C and sigma hyperparameters for support vector machines.\n",
    "- The k in k-nearest neighbors. "
   ]
  },
  {
   "cell_type": "markdown",
   "metadata": {},
   "source": [
    "# Grid Search\n",
    "* Grid-search is used to find best combination of hyperparameters for a model which results in the most 'accurate' predictions\n",
    "* The goal is then to train model on each combination of hyper paramater and evaluate them e.g. using cross-validation"
   ]
  },
  {
   "cell_type": "code",
   "execution_count": 46,
   "metadata": {},
   "outputs": [
    {
     "name": "stdout",
     "output_type": "stream",
     "text": [
      "Best: 0.763501 using {'C': 1.5, 'dual': False, 'max_iter': 100}\n",
      "Execution time: 0.7279989719390869 ms\n"
     ]
    },
    {
     "name": "stderr",
     "output_type": "stream",
     "text": [
      "C:\\Users\\rishbans\\Anaconda3\\lib\\site-packages\\sklearn\\model_selection\\_search.py:841: DeprecationWarning: The default of the `iid` parameter will change from True to False in version 0.22 and will be removed in 0.24. This will change numeric results when test-set sizes are unequal.\n",
      "  DeprecationWarning)\n"
     ]
    }
   ],
   "source": [
    "from sklearn.model_selection import GridSearchCV\n",
    "import time\n",
    "\n",
    "\n",
    "dual=[True,False]\n",
    "max_iter=[100,110,120,130,140]\n",
    "C = [1.0,1.5,2.0,2.5]\n",
    "param_grid = dict(dual=dual,max_iter=max_iter,C=C)\n",
    "lr = LogisticRegression(penalty='l2')\n",
    "grid = GridSearchCV(estimator=lr, param_grid=param_grid, cv = 3, n_jobs=-1)\n",
    "\n",
    "start_time = time.time()\n",
    "grid_result = grid.fit(X_train, y_train.ravel())\n",
    "# Summarize results\n",
    "print(\"Best: %f using %s\" % (grid_result.best_score_, grid_result.best_params_))\n",
    "print(\"Execution time: \" + str((time.time() - start_time)) + ' ms')"
   ]
  },
  {
   "cell_type": "markdown",
   "metadata": {},
   "source": [
    "There is an increase in the accuracy score, but there is a sufficient amount of growth in the execution time as well. The larger the grid, the more execution time."
   ]
  }
 ],
 "metadata": {
  "kernelspec": {
   "display_name": "Python 3",
   "language": "python",
   "name": "python3"
  },
  "language_info": {
   "codemirror_mode": {
    "name": "ipython",
    "version": 3
   },
   "file_extension": ".py",
   "mimetype": "text/x-python",
   "name": "python",
   "nbconvert_exporter": "python",
   "pygments_lexer": "ipython3",
   "version": "3.8.5"
  }
 },
 "nbformat": 4,
 "nbformat_minor": 2
}
