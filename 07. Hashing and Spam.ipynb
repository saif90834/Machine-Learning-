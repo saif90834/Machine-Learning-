{
 "cells": [
  {
   "attachments": {},
   "cell_type": "markdown",
   "metadata": {},
   "source": [
    "# Hashing and Spam\n",
    "#### Article Classification(E.g: Spam Classification) using bag-of-words representation (BOW)\n",
    "\n",
    "Suppose we have two sentence one is span and other is not spam   \n",
    "- i earn 20 lakh rupees per month just chitchating on the net!(spam)  \n",
    "- are you free for a meeting anytime tomorrow?(not spam) \n"
   ]
  },
  {
   "cell_type": "code",
   "execution_count": 1,
   "metadata": {},
   "outputs": [
    {
     "name": "stdout",
     "output_type": "stream",
     "text": [
      "[[0 0 1 1 0 0 1 1 0 1 1 1 1 1 1 0 1 0]\n",
      " [1 1 0 0 1 1 0 0 1 0 0 0 0 0 0 1 0 1]]\n",
      "{'earn': 3, 'twenty': 16, 'lakh': 7, 'rupees': 13, 'per': 12, 'month': 9, 'just': 6, 'chitchating': 2, 'on': 11, 'the': 14, 'net': 10, 'are': 1, 'you': 17, 'free': 5, 'for': 4, 'meeting': 8, 'anytime': 0, 'tomorrow': 15}\n"
     ]
    }
   ],
   "source": [
    "import pandas as pd\n",
    "corpus = [\n",
    "     'i earn twenty lakh rupees per month just chitchating on the net!', \n",
    "     'are you free for a meeting anytime tomorrow?',\n",
    "]\n",
    "df = pd.DataFrame({'Text':corpus})\n",
    "from sklearn.feature_extraction.text import CountVectorizer\n",
    "count_v = CountVectorizer()\n",
    "X = count_v.fit_transform(df.Text).toarray()\n",
    "print(X)\n",
    "print(count_v.vocabulary_)\n"
   ]
  },
  {
   "cell_type": "code",
   "execution_count": 2,
   "metadata": {},
   "outputs": [
    {
     "name": "stdout",
     "output_type": "stream",
     "text": [
      "[[1 1 0 0 1 1 0 0 1 0 0 0 0 0 0 1 0 1]]\n"
     ]
    }
   ],
   "source": [
    "#Now we got a new sentence, generate the vector using pre built vocabulary\n",
    "new_txt = ['io etrn are you free ruppee for a monnth meeting chitcchting anytime tomorrow neet']\n",
    "df_new = pd.DataFrame({'new_txt':new_txt})\n",
    "y = count_v.transform(df_new.new_txt).toarray()\n",
    "print(y)\n"
   ]
  },
  {
   "attachments": {},
   "cell_type": "markdown",
   "metadata": {},
   "source": [
    "Vocabulary:  \n",
    "{'anytime': 0, 'are': 1, 'chitchating': 2, 'earn': 3, 'for': 4, 'free': 5, 'just': 6, 'lakh': 7, 'meeting': 8,   'month': 9, 'net': 10, 'on': 11, 'per': 12, 'rupees': 13, 'the': 14, 'tomorrow': 15, 'twenty': 16, 'you': 17 }  \n",
    "  \n",
    "- i earn 20 lakh rupees per month just chitchating on the net!   \n",
    "vector1:[0 0 1 1 0 0 1 1 0 1 1 1 1 1 1 0 1 0]  \n",
    "\n",
    "- are you free for a meeting anytime tomorrow?  \n",
    "vector2:[1 1 0 0 1 1 0 0 1 0 0 0 0 0 0 1 0 1]  \n"
   ]
  },
  {
   "cell_type": "markdown",
   "metadata": {},
   "source": [
    "New Sentence:  \n",
    "- io etrn are you free ruppee for a monnth meeting chitcchting anytime tomorrow neet  \n",
    "With Existing Count Vector:  \n",
    "vector3:[1 1 0 0 1 1 0 0 1 0 0 0 0 0 0 1 0 1]  \n"
   ]
  },
  {
   "cell_type": "markdown",
   "metadata": {},
   "source": [
    "- So, above vector3 is same as vector2, because new words can't be taken into account as this is CountVectorizer. So machine learning will classify vector3 as not spam same as vector2 which is not correct. \n",
    "- Even if we increase the vector length, whole machine learning model need to be trained again.  \n",
    "- Solution is Hashing\n"
   ]
  },
  {
   "attachments": {},
   "cell_type": "markdown",
   "metadata": {},
   "source": [
    "## Hashing\n",
    "- Apply Hash Function\n",
    "- “Rishi Bansal”  --> 23\n",
    "- “Rashi Bansal” --> 72\n",
    "- Output number depend on Hash function\n"
   ]
  },
  {
   "cell_type": "markdown",
   "metadata": {},
   "source": [
    "**Features:**\n",
    "- Same value for same string\n",
    "- Collison: Possibility of same value for different string \n"
   ]
  },
  {
   "attachments": {},
   "cell_type": "markdown",
   "metadata": {},
   "source": [
    "Lets take a huge count vector – 2*2^20  \n",
    "Choose Hashing function which generates number between 0 to 2*2^20  \n",
    "'i earn 20 lakh rupees per month just chitchating on the net!',   \n",
    "[0 0 1 1…. 0 0 1 1 0….. 1 1 1 1 ……1 1 0 1 0]  – 2*2^20  \n",
    "\n",
    " 'are you free for a meeting anytime tomorrow?',  \n",
    "[1 1 …..0 0 1 1 0 0 ……1 0……. 0 0 0 0 …..0 1 0 1]  – 2*2^20  \n",
    "\n",
    " 'io etrn are you free ruppee for a monnth meeting chitcchting anytime tomorrow neet'  \n",
    "[00 …..1 0 1 1 0 0 ……1 0……. 1 0 1 0 …..0 0 0 1] – 2*2^20   \n",
    "\n"
   ]
  },
  {
   "attachments": {},
   "cell_type": "markdown",
   "metadata": {},
   "source": [
    "## When to Use HashVectorizer?"
   ]
  },
  {
   "attachments": {},
   "cell_type": "markdown",
   "metadata": {},
   "source": [
    "#### HashingVectorizer : \n",
    "1> If dataset is large and there is no use for the resulting dictionary of tokens\n",
    "2> You have maxed out your computing resources and it’s time to optimize\n",
    "\n",
    "#### CountVectorizer: \n",
    "1>  If need is to access the actual tokens.\n",
    "2> If you are worried about hash collisions (when matrix size is small) \n"
   ]
  },
  {
   "cell_type": "code",
   "execution_count": null,
   "metadata": {},
   "outputs": [],
   "source": []
  }
 ],
 "metadata": {
  "kernelspec": {
   "display_name": "Python 3",
   "language": "python",
   "name": "python3"
  },
  "language_info": {
   "codemirror_mode": {
    "name": "ipython",
    "version": 3
   },
   "file_extension": ".py",
   "mimetype": "text/x-python",
   "name": "python",
   "nbconvert_exporter": "python",
   "pygments_lexer": "ipython3",
   "version": "3.6.6"
  }
 },
 "nbformat": 4,
 "nbformat_minor": 2
}
