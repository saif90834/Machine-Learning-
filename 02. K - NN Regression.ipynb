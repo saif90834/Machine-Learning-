{
 "cells": [
  {
   "cell_type": "markdown",
   "metadata": {},
   "source": [
    "# K – Nearest Neighbours(Regression)"
   ]
  },
  {
   "cell_type": "markdown",
   "metadata": {},
   "source": [
    "It assumes that similar things exist in close proximity.\n",
    "\n",
    "## Algorithm:\n",
    "\n",
    "* Step 1: Choose the no. K of neighbours\n",
    "* Step 2: Take the K nearest neighbours of the new data points by Euclidean distance\n",
    "* Step 3: Among K Neighbours, take the average of these Neighbours\n",
    "* Step 4: Assign this average value to the new point"
   ]
  },
  {
   "cell_type": "code",
   "execution_count": 6,
   "metadata": {},
   "outputs": [
    {
     "name": "stdout",
     "output_type": "stream",
     "text": [
      "Score Train Set 0.925323974795017\n",
      "Score Test Set 0.8969189588503369\n",
      "[111698.17333333 138434.37333333 140420.84        76914.72\n",
      " 163217.69       110608.37        68876.10333333 106574.\n",
      " 114298.26666667 163217.69       105741.20666667  87079.41333333\n",
      " 106574.          91203.10333333 129017.49333333 146083.77333333\n",
      " 144568.21666667]\n"
     ]
    }
   ],
   "source": [
    "import pandas as pd\n",
    "\n",
    "# Importing the dataset\n",
    "dataset = pd.read_csv('Data/Regression/50_Startups.csv')\n",
    "\n",
    "X = dataset.iloc[:, 0:2].values\n",
    "y = dataset.iloc[:, 4].values\n",
    "\n",
    "from sklearn.model_selection import train_test_split\n",
    "X_train, X_test, y_train, y_test = train_test_split(X, y, test_size = 0.33, random_state = 0)\n",
    "\n",
    "#Fitting Nearest Neighbour Regression to the Training set\n",
    "from sklearn.neighbors import KNeighborsRegressor\n",
    "NN_model = KNeighborsRegressor(n_neighbors = 3)\n",
    "NN_model.fit(X_train, y_train)\n",
    "\n",
    "\n",
    "print(\"Score Train Set\",NN_model.score(X_train, y_train))\n",
    "print(\"Score Test Set\",NN_model.score(X_test, y_test))\n",
    "\n",
    "y_predict = NN_model.predict(X_test)\n",
    "print(y_predict)\n",
    "\n"
   ]
  },
  {
   "cell_type": "code",
   "execution_count": 4,
   "metadata": {},
   "outputs": [
    {
     "name": "stdout",
     "output_type": "stream",
     "text": [
      "k = 1 rmse= 18260.397891883887\n",
      "k = 2 rmse= 13050.828785686093\n",
      "k = 3 rmse= 9889.573869081936\n",
      "k = 4 rmse= 9019.094167457928\n",
      "k = 5 rmse= 10047.213142160233\n",
      "k = 6 rmse= 10489.374030074561\n",
      "k = 7 rmse= 11909.247517880343\n",
      "k = 8 rmse= 12110.816726974532\n",
      "k = 9 rmse= 12416.760369371954\n",
      "k = 10 rmse= 12685.979406146987\n",
      "k = 11 rmse= 12876.018529012208\n",
      "k = 12 rmse= 13869.344789112145\n",
      "k = 13 rmse= 14297.242897962047\n",
      "k = 14 rmse= 14756.971898529795\n",
      "k = 15 rmse= 15093.751079510112\n",
      "k = 16 rmse= 15598.487705148094\n",
      "k = 17 rmse= 16228.347769497905\n",
      "k = 18 rmse= 16860.351991196156\n",
      "k = 19 rmse= 17731.534358678884\n"
     ]
    },
    {
     "data": {
      "text/plain": [
       "<AxesSubplot:>"
      ]
     },
     "execution_count": 4,
     "metadata": {},
     "output_type": "execute_result"
    },
    {
     "data": {
      "image/png": "[encoded data removed]",
      "text/plain": [
       "<Figure size 432x288 with 1 Axes>"
      ]
     },
     "metadata": {
      "needs_background": "light"
     },
     "output_type": "display_data"
    }
   ],
   "source": [
    "#Find out best value of k\n",
    "from sklearn.metrics import mean_squared_error\n",
    "from math import sqrt\n",
    "\n",
    "rmse = []\n",
    "for k in range(1,20):\n",
    "    NN_model = KNeighborsRegressor(n_neighbors = k)\n",
    "    NN_model.fit(X_train, y_train)\n",
    "    y_predict = NN_model.predict(X_test)\n",
    "    \n",
    "    error = sqrt(mean_squared_error(y_test, y_predict))\n",
    "    rmse.append(error)\n",
    "    print(\"k =\", k, \"rmse=\",error)\n",
    "    \n",
    "graph = pd.DataFrame(rmse)    \n",
    "graph.plot()"
   ]
  },
  {
   "cell_type": "markdown",
   "metadata": {},
   "source": [
    "**Pros\n",
    "* Easy to understand\n",
    "* No assumptions about data\n",
    "* Can be applied to both classification and regression\n",
    "* Works easily on multi-class problems\n",
    "\n",
    "**Cons\n",
    "\n",
    "* Memory Intensive / Computationally expensive\n",
    "* Sensitive to scale of data\n",
    "* Not work well on rare event (skewed) target variable\n",
    "* Struggle when high number of independent variables"
   ]
  },
  {
   "cell_type": "markdown",
   "metadata": {},
   "source": [
    "Q. How does a boundary becomes smoother with increasing k\n",
    "- high values of k takes into consideration more points/voters for prediction and hence becomes more resilient to outliers . That is why , the resulting decision boundary becomes more smoother resulting reduced variance and high bias"
   ]
  },
  {
   "cell_type": "code",
   "execution_count": null,
   "metadata": {},
   "outputs": [],
   "source": []
  }
 ],
 "metadata": {
  "kernelspec": {
   "display_name": "Python 3",
   "language": "python",
   "name": "python3"
  },
  "language_info": {
   "codemirror_mode": {
    "name": "ipython",
    "version": 3
   },
   "file_extension": ".py",
   "mimetype": "text/x-python",
   "name": "python",
   "nbconvert_exporter": "python",
   "pygments_lexer": "ipython3",
   "version": "3.8.5"
  }
 },
 "nbformat": 4,
 "nbformat_minor": 4
}
